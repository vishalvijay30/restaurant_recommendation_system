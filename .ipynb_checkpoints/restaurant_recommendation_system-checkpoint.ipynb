{
 "cells": [
  {
   "cell_type": "markdown",
   "metadata": {},
   "source": [
    "# 1 Exploring the Data"
   ]
  },
  {
   "cell_type": "markdown",
   "metadata": {},
   "source": [
    "*In this module we will use Deep Learning techniques to build a collaborative filtering model to recommend new restaurants for users.*"
   ]
  },
  {
   "cell_type": "code",
   "execution_count": 1,
   "metadata": {},
   "outputs": [],
   "source": [
    "%matplotlib inline\n",
    "%reload_ext autoreload\n",
    "%autoreload 2"
   ]
  },
  {
   "cell_type": "code",
   "execution_count": 2,
   "metadata": {},
   "outputs": [],
   "source": [
    "import math\n",
    "from fastai.learner import *\n",
    "from fastai.column_data import *"
   ]
  },
  {
   "cell_type": "code",
   "execution_count": 3,
   "metadata": {},
   "outputs": [],
   "source": [
    "PATH='./data/'"
   ]
  },
  {
   "cell_type": "code",
   "execution_count": 4,
   "metadata": {},
   "outputs": [
    {
     "name": "stdout",
     "output_type": "stream",
     "text": [
      "models\t\t   yelp_business.csv\t  yelp_review.csv.zip\r\n",
      "ratings_train.csv  yelp_business.csv.zip\r\n",
      "tmp\t\t   yelp_review.csv\r\n"
     ]
    }
   ],
   "source": [
    "!ls {PATH}"
   ]
  },
  {
   "cell_type": "code",
   "execution_count": 5,
   "metadata": {
    "scrolled": true
   },
   "outputs": [
    {
     "data": {
      "text/html": [
       "<div>\n",
       "<style scoped>\n",
       "    .dataframe tbody tr th:only-of-type {\n",
       "        vertical-align: middle;\n",
       "    }\n",
       "\n",
       "    .dataframe tbody tr th {\n",
       "        vertical-align: top;\n",
       "    }\n",
       "\n",
       "    .dataframe thead th {\n",
       "        text-align: right;\n",
       "    }\n",
       "</style>\n",
       "<table border=\"1\" class=\"dataframe\">\n",
       "  <thead>\n",
       "    <tr style=\"text-align: right;\">\n",
       "      <th></th>\n",
       "      <th>review_id</th>\n",
       "      <th>user_id</th>\n",
       "      <th>business_id</th>\n",
       "      <th>stars</th>\n",
       "      <th>date</th>\n",
       "      <th>text</th>\n",
       "      <th>useful</th>\n",
       "      <th>funny</th>\n",
       "      <th>cool</th>\n",
       "    </tr>\n",
       "  </thead>\n",
       "  <tbody>\n",
       "    <tr>\n",
       "      <th>0</th>\n",
       "      <td>vkVSCC7xljjrAI4UGfnKEQ</td>\n",
       "      <td>bv2nCi5Qv5vroFiqKGopiw</td>\n",
       "      <td>AEx2SYEUJmTxVVB18LlCwA</td>\n",
       "      <td>5</td>\n",
       "      <td>2016-05-28</td>\n",
       "      <td>Super simple place but amazing nonetheless. It...</td>\n",
       "      <td>0</td>\n",
       "      <td>0</td>\n",
       "      <td>0</td>\n",
       "    </tr>\n",
       "    <tr>\n",
       "      <th>1</th>\n",
       "      <td>n6QzIUObkYshz4dz2QRJTw</td>\n",
       "      <td>bv2nCi5Qv5vroFiqKGopiw</td>\n",
       "      <td>VR6GpWIda3SfvPC-lg9H3w</td>\n",
       "      <td>5</td>\n",
       "      <td>2016-05-28</td>\n",
       "      <td>Small unassuming place that changes their menu...</td>\n",
       "      <td>0</td>\n",
       "      <td>0</td>\n",
       "      <td>0</td>\n",
       "    </tr>\n",
       "    <tr>\n",
       "      <th>2</th>\n",
       "      <td>MV3CcKScW05u5LVfF6ok0g</td>\n",
       "      <td>bv2nCi5Qv5vroFiqKGopiw</td>\n",
       "      <td>CKC0-MOWMqoeWf6s-szl8g</td>\n",
       "      <td>5</td>\n",
       "      <td>2016-05-28</td>\n",
       "      <td>Lester's is located in a beautiful neighborhoo...</td>\n",
       "      <td>0</td>\n",
       "      <td>0</td>\n",
       "      <td>0</td>\n",
       "    </tr>\n",
       "    <tr>\n",
       "      <th>3</th>\n",
       "      <td>IXvOzsEMYtiJI0CARmj77Q</td>\n",
       "      <td>bv2nCi5Qv5vroFiqKGopiw</td>\n",
       "      <td>ACFtxLv8pGrrxMm6EgjreA</td>\n",
       "      <td>4</td>\n",
       "      <td>2016-05-28</td>\n",
       "      <td>Love coming here. Yes the place always needs t...</td>\n",
       "      <td>0</td>\n",
       "      <td>0</td>\n",
       "      <td>0</td>\n",
       "    </tr>\n",
       "    <tr>\n",
       "      <th>4</th>\n",
       "      <td>L_9BTb55X0GDtThi6GlZ6w</td>\n",
       "      <td>bv2nCi5Qv5vroFiqKGopiw</td>\n",
       "      <td>s2I_Ni76bjJNK9yG60iD-Q</td>\n",
       "      <td>4</td>\n",
       "      <td>2016-05-28</td>\n",
       "      <td>Had their chocolate almond croissant and it wa...</td>\n",
       "      <td>0</td>\n",
       "      <td>0</td>\n",
       "      <td>0</td>\n",
       "    </tr>\n",
       "  </tbody>\n",
       "</table>\n",
       "</div>"
      ],
      "text/plain": [
       "                review_id                 user_id             business_id  \\\n",
       "0  vkVSCC7xljjrAI4UGfnKEQ  bv2nCi5Qv5vroFiqKGopiw  AEx2SYEUJmTxVVB18LlCwA   \n",
       "1  n6QzIUObkYshz4dz2QRJTw  bv2nCi5Qv5vroFiqKGopiw  VR6GpWIda3SfvPC-lg9H3w   \n",
       "2  MV3CcKScW05u5LVfF6ok0g  bv2nCi5Qv5vroFiqKGopiw  CKC0-MOWMqoeWf6s-szl8g   \n",
       "3  IXvOzsEMYtiJI0CARmj77Q  bv2nCi5Qv5vroFiqKGopiw  ACFtxLv8pGrrxMm6EgjreA   \n",
       "4  L_9BTb55X0GDtThi6GlZ6w  bv2nCi5Qv5vroFiqKGopiw  s2I_Ni76bjJNK9yG60iD-Q   \n",
       "\n",
       "   stars        date                                               text  \\\n",
       "0      5  2016-05-28  Super simple place but amazing nonetheless. It...   \n",
       "1      5  2016-05-28  Small unassuming place that changes their menu...   \n",
       "2      5  2016-05-28  Lester's is located in a beautiful neighborhoo...   \n",
       "3      4  2016-05-28  Love coming here. Yes the place always needs t...   \n",
       "4      4  2016-05-28  Had their chocolate almond croissant and it wa...   \n",
       "\n",
       "   useful  funny  cool  \n",
       "0       0      0     0  \n",
       "1       0      0     0  \n",
       "2       0      0     0  \n",
       "3       0      0     0  \n",
       "4       0      0     0  "
      ]
     },
     "execution_count": 5,
     "metadata": {},
     "output_type": "execute_result"
    }
   ],
   "source": [
    "ratings = pd.read_csv(PATH + 'yelp_review.csv')\n",
    "ratings.head()"
   ]
  },
  {
   "cell_type": "code",
   "execution_count": 6,
   "metadata": {},
   "outputs": [
    {
     "data": {
      "text/html": [
       "<div>\n",
       "<style scoped>\n",
       "    .dataframe tbody tr th:only-of-type {\n",
       "        vertical-align: middle;\n",
       "    }\n",
       "\n",
       "    .dataframe tbody tr th {\n",
       "        vertical-align: top;\n",
       "    }\n",
       "\n",
       "    .dataframe thead th {\n",
       "        text-align: right;\n",
       "    }\n",
       "</style>\n",
       "<table border=\"1\" class=\"dataframe\">\n",
       "  <thead>\n",
       "    <tr style=\"text-align: right;\">\n",
       "      <th></th>\n",
       "      <th>business_id</th>\n",
       "      <th>name</th>\n",
       "      <th>neighborhood</th>\n",
       "      <th>address</th>\n",
       "      <th>city</th>\n",
       "      <th>state</th>\n",
       "      <th>postal_code</th>\n",
       "      <th>latitude</th>\n",
       "      <th>longitude</th>\n",
       "      <th>stars</th>\n",
       "      <th>review_count</th>\n",
       "      <th>is_open</th>\n",
       "      <th>categories</th>\n",
       "    </tr>\n",
       "  </thead>\n",
       "  <tbody>\n",
       "    <tr>\n",
       "      <th>0</th>\n",
       "      <td>FYWN1wneV18bWNgQjJ2GNg</td>\n",
       "      <td>\"Dental by Design\"</td>\n",
       "      <td>NaN</td>\n",
       "      <td>\"4855 E Warner Rd, Ste B9\"</td>\n",
       "      <td>Ahwatukee</td>\n",
       "      <td>AZ</td>\n",
       "      <td>85044</td>\n",
       "      <td>33.330690</td>\n",
       "      <td>-111.978599</td>\n",
       "      <td>4.0</td>\n",
       "      <td>22</td>\n",
       "      <td>1</td>\n",
       "      <td>Dentists;General Dentistry;Health &amp; Medical;Or...</td>\n",
       "    </tr>\n",
       "    <tr>\n",
       "      <th>1</th>\n",
       "      <td>He-G7vWjzVUysIKrfNbPUQ</td>\n",
       "      <td>\"Stephen Szabo Salon\"</td>\n",
       "      <td>NaN</td>\n",
       "      <td>\"3101 Washington Rd\"</td>\n",
       "      <td>McMurray</td>\n",
       "      <td>PA</td>\n",
       "      <td>15317</td>\n",
       "      <td>40.291685</td>\n",
       "      <td>-80.104900</td>\n",
       "      <td>3.0</td>\n",
       "      <td>11</td>\n",
       "      <td>1</td>\n",
       "      <td>Hair Stylists;Hair Salons;Men's Hair Salons;Bl...</td>\n",
       "    </tr>\n",
       "    <tr>\n",
       "      <th>2</th>\n",
       "      <td>KQPW8lFf1y5BT2MxiSZ3QA</td>\n",
       "      <td>\"Western Motor Vehicle\"</td>\n",
       "      <td>NaN</td>\n",
       "      <td>\"6025 N 27th Ave, Ste 1\"</td>\n",
       "      <td>Phoenix</td>\n",
       "      <td>AZ</td>\n",
       "      <td>85017</td>\n",
       "      <td>33.524903</td>\n",
       "      <td>-112.115310</td>\n",
       "      <td>1.5</td>\n",
       "      <td>18</td>\n",
       "      <td>1</td>\n",
       "      <td>Departments of Motor Vehicles;Public Services ...</td>\n",
       "    </tr>\n",
       "    <tr>\n",
       "      <th>3</th>\n",
       "      <td>8DShNS-LuFqpEWIp0HxijA</td>\n",
       "      <td>\"Sports Authority\"</td>\n",
       "      <td>NaN</td>\n",
       "      <td>\"5000 Arizona Mills Cr, Ste 435\"</td>\n",
       "      <td>Tempe</td>\n",
       "      <td>AZ</td>\n",
       "      <td>85282</td>\n",
       "      <td>33.383147</td>\n",
       "      <td>-111.964725</td>\n",
       "      <td>3.0</td>\n",
       "      <td>9</td>\n",
       "      <td>0</td>\n",
       "      <td>Sporting Goods;Shopping</td>\n",
       "    </tr>\n",
       "    <tr>\n",
       "      <th>4</th>\n",
       "      <td>PfOCPjBrlQAnz__NXj9h_w</td>\n",
       "      <td>\"Brick House Tavern + Tap\"</td>\n",
       "      <td>NaN</td>\n",
       "      <td>\"581 Howe Ave\"</td>\n",
       "      <td>Cuyahoga Falls</td>\n",
       "      <td>OH</td>\n",
       "      <td>44221</td>\n",
       "      <td>41.119535</td>\n",
       "      <td>-81.475690</td>\n",
       "      <td>3.5</td>\n",
       "      <td>116</td>\n",
       "      <td>1</td>\n",
       "      <td>American (New);Nightlife;Bars;Sandwiches;Ameri...</td>\n",
       "    </tr>\n",
       "  </tbody>\n",
       "</table>\n",
       "</div>"
      ],
      "text/plain": [
       "              business_id                        name neighborhood  \\\n",
       "0  FYWN1wneV18bWNgQjJ2GNg          \"Dental by Design\"          NaN   \n",
       "1  He-G7vWjzVUysIKrfNbPUQ       \"Stephen Szabo Salon\"          NaN   \n",
       "2  KQPW8lFf1y5BT2MxiSZ3QA     \"Western Motor Vehicle\"          NaN   \n",
       "3  8DShNS-LuFqpEWIp0HxijA          \"Sports Authority\"          NaN   \n",
       "4  PfOCPjBrlQAnz__NXj9h_w  \"Brick House Tavern + Tap\"          NaN   \n",
       "\n",
       "                            address            city state postal_code  \\\n",
       "0        \"4855 E Warner Rd, Ste B9\"       Ahwatukee    AZ       85044   \n",
       "1              \"3101 Washington Rd\"        McMurray    PA       15317   \n",
       "2          \"6025 N 27th Ave, Ste 1\"         Phoenix    AZ       85017   \n",
       "3  \"5000 Arizona Mills Cr, Ste 435\"           Tempe    AZ       85282   \n",
       "4                    \"581 Howe Ave\"  Cuyahoga Falls    OH       44221   \n",
       "\n",
       "    latitude   longitude  stars  review_count  is_open  \\\n",
       "0  33.330690 -111.978599    4.0            22        1   \n",
       "1  40.291685  -80.104900    3.0            11        1   \n",
       "2  33.524903 -112.115310    1.5            18        1   \n",
       "3  33.383147 -111.964725    3.0             9        0   \n",
       "4  41.119535  -81.475690    3.5           116        1   \n",
       "\n",
       "                                          categories  \n",
       "0  Dentists;General Dentistry;Health & Medical;Or...  \n",
       "1  Hair Stylists;Hair Salons;Men's Hair Salons;Bl...  \n",
       "2  Departments of Motor Vehicles;Public Services ...  \n",
       "3                            Sporting Goods;Shopping  \n",
       "4  American (New);Nightlife;Bars;Sandwiches;Ameri...  "
      ]
     },
     "execution_count": 6,
     "metadata": {},
     "output_type": "execute_result"
    }
   ],
   "source": [
    "businesses = pd.read_csv(PATH + 'yelp_business.csv')\n",
    "businesses.head()"
   ]
  },
  {
   "cell_type": "markdown",
   "metadata": {},
   "source": [
    "There are several attributes, but for our model, we are only going to look at the ratings (stars) for each (user_id, business_id) pair"
   ]
  },
  {
   "cell_type": "code",
   "execution_count": 7,
   "metadata": {},
   "outputs": [
    {
     "data": {
      "text/html": [
       "<div>\n",
       "<style scoped>\n",
       "    .dataframe tbody tr th:only-of-type {\n",
       "        vertical-align: middle;\n",
       "    }\n",
       "\n",
       "    .dataframe tbody tr th {\n",
       "        vertical-align: top;\n",
       "    }\n",
       "\n",
       "    .dataframe thead th {\n",
       "        text-align: right;\n",
       "    }\n",
       "</style>\n",
       "<table border=\"1\" class=\"dataframe\">\n",
       "  <thead>\n",
       "    <tr style=\"text-align: right;\">\n",
       "      <th></th>\n",
       "      <th>user_id</th>\n",
       "      <th>business_id</th>\n",
       "      <th>stars</th>\n",
       "    </tr>\n",
       "  </thead>\n",
       "  <tbody>\n",
       "    <tr>\n",
       "      <th>0</th>\n",
       "      <td>bv2nCi5Qv5vroFiqKGopiw</td>\n",
       "      <td>AEx2SYEUJmTxVVB18LlCwA</td>\n",
       "      <td>5</td>\n",
       "    </tr>\n",
       "    <tr>\n",
       "      <th>1</th>\n",
       "      <td>bv2nCi5Qv5vroFiqKGopiw</td>\n",
       "      <td>VR6GpWIda3SfvPC-lg9H3w</td>\n",
       "      <td>5</td>\n",
       "    </tr>\n",
       "    <tr>\n",
       "      <th>2</th>\n",
       "      <td>bv2nCi5Qv5vroFiqKGopiw</td>\n",
       "      <td>CKC0-MOWMqoeWf6s-szl8g</td>\n",
       "      <td>5</td>\n",
       "    </tr>\n",
       "    <tr>\n",
       "      <th>3</th>\n",
       "      <td>bv2nCi5Qv5vroFiqKGopiw</td>\n",
       "      <td>ACFtxLv8pGrrxMm6EgjreA</td>\n",
       "      <td>4</td>\n",
       "    </tr>\n",
       "    <tr>\n",
       "      <th>4</th>\n",
       "      <td>bv2nCi5Qv5vroFiqKGopiw</td>\n",
       "      <td>s2I_Ni76bjJNK9yG60iD-Q</td>\n",
       "      <td>4</td>\n",
       "    </tr>\n",
       "  </tbody>\n",
       "</table>\n",
       "</div>"
      ],
      "text/plain": [
       "                  user_id             business_id  stars\n",
       "0  bv2nCi5Qv5vroFiqKGopiw  AEx2SYEUJmTxVVB18LlCwA      5\n",
       "1  bv2nCi5Qv5vroFiqKGopiw  VR6GpWIda3SfvPC-lg9H3w      5\n",
       "2  bv2nCi5Qv5vroFiqKGopiw  CKC0-MOWMqoeWf6s-szl8g      5\n",
       "3  bv2nCi5Qv5vroFiqKGopiw  ACFtxLv8pGrrxMm6EgjreA      4\n",
       "4  bv2nCi5Qv5vroFiqKGopiw  s2I_Ni76bjJNK9yG60iD-Q      4"
      ]
     },
     "execution_count": 7,
     "metadata": {},
     "output_type": "execute_result"
    }
   ],
   "source": [
    "ratings = ratings[['user_id', 'business_id', 'stars']]\n",
    "ratings.head()"
   ]
  },
  {
   "cell_type": "code",
   "execution_count": 8,
   "metadata": {},
   "outputs": [
    {
     "data": {
      "text/html": [
       "<div>\n",
       "<style scoped>\n",
       "    .dataframe tbody tr th:only-of-type {\n",
       "        vertical-align: middle;\n",
       "    }\n",
       "\n",
       "    .dataframe tbody tr th {\n",
       "        vertical-align: top;\n",
       "    }\n",
       "\n",
       "    .dataframe thead th {\n",
       "        text-align: right;\n",
       "    }\n",
       "</style>\n",
       "<table border=\"1\" class=\"dataframe\">\n",
       "  <thead>\n",
       "    <tr style=\"text-align: right;\">\n",
       "      <th></th>\n",
       "      <th>business_id</th>\n",
       "      <th>name</th>\n",
       "      <th>categories</th>\n",
       "    </tr>\n",
       "  </thead>\n",
       "  <tbody>\n",
       "    <tr>\n",
       "      <th>0</th>\n",
       "      <td>FYWN1wneV18bWNgQjJ2GNg</td>\n",
       "      <td>\"Dental by Design\"</td>\n",
       "      <td>Dentists;General Dentistry;Health &amp; Medical;Or...</td>\n",
       "    </tr>\n",
       "    <tr>\n",
       "      <th>1</th>\n",
       "      <td>He-G7vWjzVUysIKrfNbPUQ</td>\n",
       "      <td>\"Stephen Szabo Salon\"</td>\n",
       "      <td>Hair Stylists;Hair Salons;Men's Hair Salons;Bl...</td>\n",
       "    </tr>\n",
       "    <tr>\n",
       "      <th>2</th>\n",
       "      <td>KQPW8lFf1y5BT2MxiSZ3QA</td>\n",
       "      <td>\"Western Motor Vehicle\"</td>\n",
       "      <td>Departments of Motor Vehicles;Public Services ...</td>\n",
       "    </tr>\n",
       "    <tr>\n",
       "      <th>3</th>\n",
       "      <td>8DShNS-LuFqpEWIp0HxijA</td>\n",
       "      <td>\"Sports Authority\"</td>\n",
       "      <td>Sporting Goods;Shopping</td>\n",
       "    </tr>\n",
       "    <tr>\n",
       "      <th>4</th>\n",
       "      <td>PfOCPjBrlQAnz__NXj9h_w</td>\n",
       "      <td>\"Brick House Tavern + Tap\"</td>\n",
       "      <td>American (New);Nightlife;Bars;Sandwiches;Ameri...</td>\n",
       "    </tr>\n",
       "  </tbody>\n",
       "</table>\n",
       "</div>"
      ],
      "text/plain": [
       "              business_id                        name  \\\n",
       "0  FYWN1wneV18bWNgQjJ2GNg          \"Dental by Design\"   \n",
       "1  He-G7vWjzVUysIKrfNbPUQ       \"Stephen Szabo Salon\"   \n",
       "2  KQPW8lFf1y5BT2MxiSZ3QA     \"Western Motor Vehicle\"   \n",
       "3  8DShNS-LuFqpEWIp0HxijA          \"Sports Authority\"   \n",
       "4  PfOCPjBrlQAnz__NXj9h_w  \"Brick House Tavern + Tap\"   \n",
       "\n",
       "                                          categories  \n",
       "0  Dentists;General Dentistry;Health & Medical;Or...  \n",
       "1  Hair Stylists;Hair Salons;Men's Hair Salons;Bl...  \n",
       "2  Departments of Motor Vehicles;Public Services ...  \n",
       "3                            Sporting Goods;Shopping  \n",
       "4  American (New);Nightlife;Bars;Sandwiches;Ameri...  "
      ]
     },
     "execution_count": 8,
     "metadata": {},
     "output_type": "execute_result"
    }
   ],
   "source": [
    "businesses = businesses[['business_id', 'name', 'categories']]\n",
    "businesses.head()"
   ]
  },
  {
   "cell_type": "markdown",
   "metadata": {},
   "source": [
    "Now, let's merge this dataframe into the ratings data frame so that we have the names of the businesses."
   ]
  },
  {
   "cell_type": "code",
   "execution_count": 9,
   "metadata": {
    "scrolled": true
   },
   "outputs": [
    {
     "data": {
      "text/html": [
       "<div>\n",
       "<style scoped>\n",
       "    .dataframe tbody tr th:only-of-type {\n",
       "        vertical-align: middle;\n",
       "    }\n",
       "\n",
       "    .dataframe tbody tr th {\n",
       "        vertical-align: top;\n",
       "    }\n",
       "\n",
       "    .dataframe thead th {\n",
       "        text-align: right;\n",
       "    }\n",
       "</style>\n",
       "<table border=\"1\" class=\"dataframe\">\n",
       "  <thead>\n",
       "    <tr style=\"text-align: right;\">\n",
       "      <th></th>\n",
       "      <th>user_id</th>\n",
       "      <th>business_id</th>\n",
       "      <th>stars</th>\n",
       "      <th>name</th>\n",
       "      <th>categories</th>\n",
       "    </tr>\n",
       "  </thead>\n",
       "  <tbody>\n",
       "    <tr>\n",
       "      <th>0</th>\n",
       "      <td>bv2nCi5Qv5vroFiqKGopiw</td>\n",
       "      <td>AEx2SYEUJmTxVVB18LlCwA</td>\n",
       "      <td>5</td>\n",
       "      <td>\"Wilensky's\"</td>\n",
       "      <td>Diners;Food;Restaurants;Delis</td>\n",
       "    </tr>\n",
       "    <tr>\n",
       "      <th>1</th>\n",
       "      <td>bv2nCi5Qv5vroFiqKGopiw</td>\n",
       "      <td>VR6GpWIda3SfvPC-lg9H3w</td>\n",
       "      <td>5</td>\n",
       "      <td>\"Tuck Shop\"</td>\n",
       "      <td>Restaurants;Canadian (New);Italian</td>\n",
       "    </tr>\n",
       "    <tr>\n",
       "      <th>2</th>\n",
       "      <td>bv2nCi5Qv5vroFiqKGopiw</td>\n",
       "      <td>CKC0-MOWMqoeWf6s-szl8g</td>\n",
       "      <td>5</td>\n",
       "      <td>\"Lester's Deli\"</td>\n",
       "      <td>Specialty Food;Food;Sandwiches;Restaurants;Bur...</td>\n",
       "    </tr>\n",
       "    <tr>\n",
       "      <th>3</th>\n",
       "      <td>bv2nCi5Qv5vroFiqKGopiw</td>\n",
       "      <td>ACFtxLv8pGrrxMm6EgjreA</td>\n",
       "      <td>4</td>\n",
       "      <td>\"Five Guys\"</td>\n",
       "      <td>Fast Food;Restaurants;Burgers</td>\n",
       "    </tr>\n",
       "    <tr>\n",
       "      <th>4</th>\n",
       "      <td>bv2nCi5Qv5vroFiqKGopiw</td>\n",
       "      <td>s2I_Ni76bjJNK9yG60iD-Q</td>\n",
       "      <td>4</td>\n",
       "      <td>\"Maison Christian Faure\"</td>\n",
       "      <td>Bakeries;Restaurants;Food;Sandwiches;Cafes;Cof...</td>\n",
       "    </tr>\n",
       "  </tbody>\n",
       "</table>\n",
       "</div>"
      ],
      "text/plain": [
       "                  user_id             business_id  stars  \\\n",
       "0  bv2nCi5Qv5vroFiqKGopiw  AEx2SYEUJmTxVVB18LlCwA      5   \n",
       "1  bv2nCi5Qv5vroFiqKGopiw  VR6GpWIda3SfvPC-lg9H3w      5   \n",
       "2  bv2nCi5Qv5vroFiqKGopiw  CKC0-MOWMqoeWf6s-szl8g      5   \n",
       "3  bv2nCi5Qv5vroFiqKGopiw  ACFtxLv8pGrrxMm6EgjreA      4   \n",
       "4  bv2nCi5Qv5vroFiqKGopiw  s2I_Ni76bjJNK9yG60iD-Q      4   \n",
       "\n",
       "                       name                                         categories  \n",
       "0              \"Wilensky's\"                      Diners;Food;Restaurants;Delis  \n",
       "1               \"Tuck Shop\"                 Restaurants;Canadian (New);Italian  \n",
       "2           \"Lester's Deli\"  Specialty Food;Food;Sandwiches;Restaurants;Bur...  \n",
       "3               \"Five Guys\"                      Fast Food;Restaurants;Burgers  \n",
       "4  \"Maison Christian Faure\"  Bakeries;Restaurants;Food;Sandwiches;Cafes;Cof...  "
      ]
     },
     "execution_count": 9,
     "metadata": {},
     "output_type": "execute_result"
    }
   ],
   "source": [
    "ratings = ratings.merge(businesses, how='left', on='business_id')\n",
    "ratings.head()"
   ]
  },
  {
   "cell_type": "markdown",
   "metadata": {},
   "source": [
    "Now, let's check for missing values"
   ]
  },
  {
   "cell_type": "code",
   "execution_count": 10,
   "metadata": {},
   "outputs": [],
   "source": [
    "def show_missing():\n",
    "    return ratings.columns[ratings.isnull().any()].tolist()"
   ]
  },
  {
   "cell_type": "code",
   "execution_count": 11,
   "metadata": {},
   "outputs": [
    {
     "data": {
      "text/plain": [
       "Series([], dtype: float64)"
      ]
     },
     "execution_count": 11,
     "metadata": {},
     "output_type": "execute_result"
    }
   ],
   "source": [
    "round(ratings[show_missing()].isnull().sum().sort_values(ascending = False)/len(ratings)*100, 2)"
   ]
  },
  {
   "cell_type": "markdown",
   "metadata": {},
   "source": [
    "There are no missing values, so that's good news!"
   ]
  },
  {
   "cell_type": "markdown",
   "metadata": {},
   "source": [
    "Now, for this task, we only want businesses that are restaurants (or bussinesses that serve food). So, let's go ahead and clean our dataframe to only include restaurants."
   ]
  },
  {
   "cell_type": "code",
   "execution_count": 12,
   "metadata": {},
   "outputs": [
    {
     "data": {
      "text/html": [
       "<div>\n",
       "<style scoped>\n",
       "    .dataframe tbody tr th:only-of-type {\n",
       "        vertical-align: middle;\n",
       "    }\n",
       "\n",
       "    .dataframe tbody tr th {\n",
       "        vertical-align: top;\n",
       "    }\n",
       "\n",
       "    .dataframe thead th {\n",
       "        text-align: right;\n",
       "    }\n",
       "</style>\n",
       "<table border=\"1\" class=\"dataframe\">\n",
       "  <thead>\n",
       "    <tr style=\"text-align: right;\">\n",
       "      <th></th>\n",
       "      <th>user_id</th>\n",
       "      <th>business_id</th>\n",
       "      <th>stars</th>\n",
       "      <th>name</th>\n",
       "      <th>categories</th>\n",
       "      <th>isRestaurant</th>\n",
       "    </tr>\n",
       "  </thead>\n",
       "  <tbody>\n",
       "    <tr>\n",
       "      <th>0</th>\n",
       "      <td>bv2nCi5Qv5vroFiqKGopiw</td>\n",
       "      <td>AEx2SYEUJmTxVVB18LlCwA</td>\n",
       "      <td>5</td>\n",
       "      <td>\"Wilensky's\"</td>\n",
       "      <td>Diners;Food;Restaurants;Delis</td>\n",
       "      <td>True</td>\n",
       "    </tr>\n",
       "    <tr>\n",
       "      <th>1</th>\n",
       "      <td>bv2nCi5Qv5vroFiqKGopiw</td>\n",
       "      <td>VR6GpWIda3SfvPC-lg9H3w</td>\n",
       "      <td>5</td>\n",
       "      <td>\"Tuck Shop\"</td>\n",
       "      <td>Restaurants;Canadian (New);Italian</td>\n",
       "      <td>True</td>\n",
       "    </tr>\n",
       "    <tr>\n",
       "      <th>2</th>\n",
       "      <td>bv2nCi5Qv5vroFiqKGopiw</td>\n",
       "      <td>CKC0-MOWMqoeWf6s-szl8g</td>\n",
       "      <td>5</td>\n",
       "      <td>\"Lester's Deli\"</td>\n",
       "      <td>Specialty Food;Food;Sandwiches;Restaurants;Bur...</td>\n",
       "      <td>True</td>\n",
       "    </tr>\n",
       "    <tr>\n",
       "      <th>3</th>\n",
       "      <td>bv2nCi5Qv5vroFiqKGopiw</td>\n",
       "      <td>ACFtxLv8pGrrxMm6EgjreA</td>\n",
       "      <td>4</td>\n",
       "      <td>\"Five Guys\"</td>\n",
       "      <td>Fast Food;Restaurants;Burgers</td>\n",
       "      <td>True</td>\n",
       "    </tr>\n",
       "    <tr>\n",
       "      <th>4</th>\n",
       "      <td>bv2nCi5Qv5vroFiqKGopiw</td>\n",
       "      <td>s2I_Ni76bjJNK9yG60iD-Q</td>\n",
       "      <td>4</td>\n",
       "      <td>\"Maison Christian Faure\"</td>\n",
       "      <td>Bakeries;Restaurants;Food;Sandwiches;Cafes;Cof...</td>\n",
       "      <td>True</td>\n",
       "    </tr>\n",
       "  </tbody>\n",
       "</table>\n",
       "</div>"
      ],
      "text/plain": [
       "                  user_id             business_id  stars  \\\n",
       "0  bv2nCi5Qv5vroFiqKGopiw  AEx2SYEUJmTxVVB18LlCwA      5   \n",
       "1  bv2nCi5Qv5vroFiqKGopiw  VR6GpWIda3SfvPC-lg9H3w      5   \n",
       "2  bv2nCi5Qv5vroFiqKGopiw  CKC0-MOWMqoeWf6s-szl8g      5   \n",
       "3  bv2nCi5Qv5vroFiqKGopiw  ACFtxLv8pGrrxMm6EgjreA      4   \n",
       "4  bv2nCi5Qv5vroFiqKGopiw  s2I_Ni76bjJNK9yG60iD-Q      4   \n",
       "\n",
       "                       name  \\\n",
       "0              \"Wilensky's\"   \n",
       "1               \"Tuck Shop\"   \n",
       "2           \"Lester's Deli\"   \n",
       "3               \"Five Guys\"   \n",
       "4  \"Maison Christian Faure\"   \n",
       "\n",
       "                                          categories  isRestaurant  \n",
       "0                      Diners;Food;Restaurants;Delis          True  \n",
       "1                 Restaurants;Canadian (New);Italian          True  \n",
       "2  Specialty Food;Food;Sandwiches;Restaurants;Bur...          True  \n",
       "3                      Fast Food;Restaurants;Burgers          True  \n",
       "4  Bakeries;Restaurants;Food;Sandwiches;Cafes;Cof...          True  "
      ]
     },
     "execution_count": 12,
     "metadata": {},
     "output_type": "execute_result"
    }
   ],
   "source": [
    "ratings.loc[:, 'isRestaurant'] = (ratings.loc[:, 'categories'].str.contains('Restaurants') | ratings.loc[:, 'categories'].str.contains('Food'))\n",
    "ratings.head()"
   ]
  },
  {
   "cell_type": "code",
   "execution_count": 13,
   "metadata": {},
   "outputs": [
    {
     "data": {
      "text/html": [
       "<div>\n",
       "<style scoped>\n",
       "    .dataframe tbody tr th:only-of-type {\n",
       "        vertical-align: middle;\n",
       "    }\n",
       "\n",
       "    .dataframe tbody tr th {\n",
       "        vertical-align: top;\n",
       "    }\n",
       "\n",
       "    .dataframe thead th {\n",
       "        text-align: right;\n",
       "    }\n",
       "</style>\n",
       "<table border=\"1\" class=\"dataframe\">\n",
       "  <thead>\n",
       "    <tr style=\"text-align: right;\">\n",
       "      <th></th>\n",
       "      <th>user_id</th>\n",
       "      <th>business_id</th>\n",
       "      <th>stars</th>\n",
       "      <th>name</th>\n",
       "      <th>categories</th>\n",
       "      <th>isRestaurant</th>\n",
       "    </tr>\n",
       "  </thead>\n",
       "  <tbody>\n",
       "    <tr>\n",
       "      <th>0</th>\n",
       "      <td>bv2nCi5Qv5vroFiqKGopiw</td>\n",
       "      <td>AEx2SYEUJmTxVVB18LlCwA</td>\n",
       "      <td>5</td>\n",
       "      <td>\"Wilensky's\"</td>\n",
       "      <td>Diners;Food;Restaurants;Delis</td>\n",
       "      <td>True</td>\n",
       "    </tr>\n",
       "    <tr>\n",
       "      <th>1</th>\n",
       "      <td>bv2nCi5Qv5vroFiqKGopiw</td>\n",
       "      <td>VR6GpWIda3SfvPC-lg9H3w</td>\n",
       "      <td>5</td>\n",
       "      <td>\"Tuck Shop\"</td>\n",
       "      <td>Restaurants;Canadian (New);Italian</td>\n",
       "      <td>True</td>\n",
       "    </tr>\n",
       "    <tr>\n",
       "      <th>2</th>\n",
       "      <td>bv2nCi5Qv5vroFiqKGopiw</td>\n",
       "      <td>CKC0-MOWMqoeWf6s-szl8g</td>\n",
       "      <td>5</td>\n",
       "      <td>\"Lester's Deli\"</td>\n",
       "      <td>Specialty Food;Food;Sandwiches;Restaurants;Bur...</td>\n",
       "      <td>True</td>\n",
       "    </tr>\n",
       "    <tr>\n",
       "      <th>3</th>\n",
       "      <td>bv2nCi5Qv5vroFiqKGopiw</td>\n",
       "      <td>ACFtxLv8pGrrxMm6EgjreA</td>\n",
       "      <td>4</td>\n",
       "      <td>\"Five Guys\"</td>\n",
       "      <td>Fast Food;Restaurants;Burgers</td>\n",
       "      <td>True</td>\n",
       "    </tr>\n",
       "    <tr>\n",
       "      <th>4</th>\n",
       "      <td>bv2nCi5Qv5vroFiqKGopiw</td>\n",
       "      <td>s2I_Ni76bjJNK9yG60iD-Q</td>\n",
       "      <td>4</td>\n",
       "      <td>\"Maison Christian Faure\"</td>\n",
       "      <td>Bakeries;Restaurants;Food;Sandwiches;Cafes;Cof...</td>\n",
       "      <td>True</td>\n",
       "    </tr>\n",
       "  </tbody>\n",
       "</table>\n",
       "</div>"
      ],
      "text/plain": [
       "                  user_id             business_id  stars  \\\n",
       "0  bv2nCi5Qv5vroFiqKGopiw  AEx2SYEUJmTxVVB18LlCwA      5   \n",
       "1  bv2nCi5Qv5vroFiqKGopiw  VR6GpWIda3SfvPC-lg9H3w      5   \n",
       "2  bv2nCi5Qv5vroFiqKGopiw  CKC0-MOWMqoeWf6s-szl8g      5   \n",
       "3  bv2nCi5Qv5vroFiqKGopiw  ACFtxLv8pGrrxMm6EgjreA      4   \n",
       "4  bv2nCi5Qv5vroFiqKGopiw  s2I_Ni76bjJNK9yG60iD-Q      4   \n",
       "\n",
       "                       name  \\\n",
       "0              \"Wilensky's\"   \n",
       "1               \"Tuck Shop\"   \n",
       "2           \"Lester's Deli\"   \n",
       "3               \"Five Guys\"   \n",
       "4  \"Maison Christian Faure\"   \n",
       "\n",
       "                                          categories  isRestaurant  \n",
       "0                      Diners;Food;Restaurants;Delis          True  \n",
       "1                 Restaurants;Canadian (New);Italian          True  \n",
       "2  Specialty Food;Food;Sandwiches;Restaurants;Bur...          True  \n",
       "3                      Fast Food;Restaurants;Burgers          True  \n",
       "4  Bakeries;Restaurants;Food;Sandwiches;Cafes;Cof...          True  "
      ]
     },
     "execution_count": 13,
     "metadata": {},
     "output_type": "execute_result"
    }
   ],
   "source": [
    "ratings = ratings[ratings.isRestaurant == True]\n",
    "ratings.head()"
   ]
  },
  {
   "cell_type": "markdown",
   "metadata": {},
   "source": [
    "# 2 Setup"
   ]
  },
  {
   "cell_type": "markdown",
   "metadata": {},
   "source": [
    "We need to do a bit of setup before we can start building the neural net. First, we need to randomly pick indexes for cross validation and we need to set the *weight_decay* hyperparameter to use in L2 Regularization. We also need to specify *n_factors*, which is the number of latent factors to use in our embedding matrices. In addition to determining the dimensionality of the embedding matrix, the number of latent factors qualititatively tells the neural net how many different attributes to learn about our users and businesses to use in making recommendations. Finally, we need to get our data into a compatible format (with categorical vs continuous variables and our dependent variable (stars) extracted)."
   ]
  },
  {
   "cell_type": "code",
   "execution_count": 14,
   "metadata": {},
   "outputs": [],
   "source": [
    "val_idxs = get_cv_idxs(len(ratings))\n",
    "n_factors = 50 # arbitrarily choose 50 to start with, tweak this number later if needed\n",
    "wd = 1e-5 # again, this number can be changed later if needed\n",
    "lr = 1e-3 # learning rate"
   ]
  },
  {
   "cell_type": "code",
   "execution_count": 15,
   "metadata": {},
   "outputs": [
    {
     "data": {
      "text/plain": [
       "(944697, 69070)"
      ]
     },
     "execution_count": 15,
     "metadata": {},
     "output_type": "execute_result"
    }
   ],
   "source": [
    "# some useful constants\n",
    "n_users=int(ratings.user_id.nunique())\n",
    "n_businesses=int(ratings.business_id.nunique())\n",
    "n_users, n_businesses"
   ]
  },
  {
   "cell_type": "code",
   "execution_count": 16,
   "metadata": {},
   "outputs": [
    {
     "data": {
      "text/plain": [
       "(1.0, 5.0)"
      ]
     },
     "execution_count": 16,
     "metadata": {},
     "output_type": "execute_result"
    }
   ],
   "source": [
    "# more useful constants\n",
    "min_rating, max_rating = ratings.stars.min().astype(float), ratings.stars.max().astype(float)\n",
    "min_rating, max_rating"
   ]
  },
  {
   "cell_type": "markdown",
   "metadata": {},
   "source": [
    "Now, we need to create a one-hot encoding for our categorical variables."
   ]
  },
  {
   "cell_type": "code",
   "execution_count": 17,
   "metadata": {},
   "outputs": [
    {
     "data": {
      "text/plain": [
       "944697"
      ]
     },
     "execution_count": 17,
     "metadata": {},
     "output_type": "execute_result"
    }
   ],
   "source": [
    "user_id_encoding = dict()\n",
    "counter = 0\n",
    "for uid in ratings.user_id:\n",
    "    if uid not in user_id_encoding:\n",
    "        user_id_encoding[uid] = counter\n",
    "        counter = counter + 1\n",
    "len(user_id_encoding)"
   ]
  },
  {
   "cell_type": "code",
   "execution_count": 18,
   "metadata": {},
   "outputs": [
    {
     "data": {
      "text/plain": [
       "69070"
      ]
     },
     "execution_count": 18,
     "metadata": {},
     "output_type": "execute_result"
    }
   ],
   "source": [
    "business_id_encoding = dict()\n",
    "counter = 0\n",
    "for bid in ratings.business_id:\n",
    "    if bid not in business_id_encoding:\n",
    "        business_id_encoding[bid] = counter\n",
    "        counter = counter + 1\n",
    "len(business_id_encoding)"
   ]
  },
  {
   "cell_type": "code",
   "execution_count": 19,
   "metadata": {},
   "outputs": [
    {
     "data": {
      "text/html": [
       "<div>\n",
       "<style scoped>\n",
       "    .dataframe tbody tr th:only-of-type {\n",
       "        vertical-align: middle;\n",
       "    }\n",
       "\n",
       "    .dataframe tbody tr th {\n",
       "        vertical-align: top;\n",
       "    }\n",
       "\n",
       "    .dataframe thead th {\n",
       "        text-align: right;\n",
       "    }\n",
       "</style>\n",
       "<table border=\"1\" class=\"dataframe\">\n",
       "  <thead>\n",
       "    <tr style=\"text-align: right;\">\n",
       "      <th></th>\n",
       "      <th>user_id</th>\n",
       "      <th>business_id</th>\n",
       "      <th>stars</th>\n",
       "      <th>name</th>\n",
       "      <th>categories</th>\n",
       "      <th>isRestaurant</th>\n",
       "    </tr>\n",
       "  </thead>\n",
       "  <tbody>\n",
       "    <tr>\n",
       "      <th>0</th>\n",
       "      <td>0</td>\n",
       "      <td>0</td>\n",
       "      <td>5</td>\n",
       "      <td>\"Wilensky's\"</td>\n",
       "      <td>Diners;Food;Restaurants;Delis</td>\n",
       "      <td>True</td>\n",
       "    </tr>\n",
       "    <tr>\n",
       "      <th>1</th>\n",
       "      <td>0</td>\n",
       "      <td>1</td>\n",
       "      <td>5</td>\n",
       "      <td>\"Tuck Shop\"</td>\n",
       "      <td>Restaurants;Canadian (New);Italian</td>\n",
       "      <td>True</td>\n",
       "    </tr>\n",
       "    <tr>\n",
       "      <th>2</th>\n",
       "      <td>0</td>\n",
       "      <td>2</td>\n",
       "      <td>5</td>\n",
       "      <td>\"Lester's Deli\"</td>\n",
       "      <td>Specialty Food;Food;Sandwiches;Restaurants;Bur...</td>\n",
       "      <td>True</td>\n",
       "    </tr>\n",
       "    <tr>\n",
       "      <th>3</th>\n",
       "      <td>0</td>\n",
       "      <td>3</td>\n",
       "      <td>4</td>\n",
       "      <td>\"Five Guys\"</td>\n",
       "      <td>Fast Food;Restaurants;Burgers</td>\n",
       "      <td>True</td>\n",
       "    </tr>\n",
       "    <tr>\n",
       "      <th>4</th>\n",
       "      <td>0</td>\n",
       "      <td>4</td>\n",
       "      <td>4</td>\n",
       "      <td>\"Maison Christian Faure\"</td>\n",
       "      <td>Bakeries;Restaurants;Food;Sandwiches;Cafes;Cof...</td>\n",
       "      <td>True</td>\n",
       "    </tr>\n",
       "  </tbody>\n",
       "</table>\n",
       "</div>"
      ],
      "text/plain": [
       "   user_id  business_id  stars                      name  \\\n",
       "0        0            0      5              \"Wilensky's\"   \n",
       "1        0            1      5               \"Tuck Shop\"   \n",
       "2        0            2      5           \"Lester's Deli\"   \n",
       "3        0            3      4               \"Five Guys\"   \n",
       "4        0            4      4  \"Maison Christian Faure\"   \n",
       "\n",
       "                                          categories  isRestaurant  \n",
       "0                      Diners;Food;Restaurants;Delis          True  \n",
       "1                 Restaurants;Canadian (New);Italian          True  \n",
       "2  Specialty Food;Food;Sandwiches;Restaurants;Bur...          True  \n",
       "3                      Fast Food;Restaurants;Burgers          True  \n",
       "4  Bakeries;Restaurants;Food;Sandwiches;Cafes;Cof...          True  "
      ]
     },
     "execution_count": 19,
     "metadata": {},
     "output_type": "execute_result"
    }
   ],
   "source": [
    "ratings.loc[:, 'user_id'] = ratings.loc[:, 'user_id'].map(user_id_encoding)\n",
    "ratings.loc[:, 'business_id'] = ratings.loc[:, 'business_id'].map(business_id_encoding)\n",
    "ratings.head()"
   ]
  },
  {
   "cell_type": "markdown",
   "metadata": {},
   "source": [
    "Currently, we have a nice clean dataset of restaurants. Since, we will only be using *user_id*, *business_id*, and *stars* to train our collaborative filtering net, let's create a new dataframe with just these columns for ease."
   ]
  },
  {
   "cell_type": "code",
   "execution_count": 20,
   "metadata": {},
   "outputs": [
    {
     "data": {
      "text/html": [
       "<div>\n",
       "<style scoped>\n",
       "    .dataframe tbody tr th:only-of-type {\n",
       "        vertical-align: middle;\n",
       "    }\n",
       "\n",
       "    .dataframe tbody tr th {\n",
       "        vertical-align: top;\n",
       "    }\n",
       "\n",
       "    .dataframe thead th {\n",
       "        text-align: right;\n",
       "    }\n",
       "</style>\n",
       "<table border=\"1\" class=\"dataframe\">\n",
       "  <thead>\n",
       "    <tr style=\"text-align: right;\">\n",
       "      <th></th>\n",
       "      <th>user_id</th>\n",
       "      <th>business_id</th>\n",
       "      <th>stars</th>\n",
       "    </tr>\n",
       "  </thead>\n",
       "  <tbody>\n",
       "    <tr>\n",
       "      <th>0</th>\n",
       "      <td>0</td>\n",
       "      <td>0</td>\n",
       "      <td>5</td>\n",
       "    </tr>\n",
       "    <tr>\n",
       "      <th>1</th>\n",
       "      <td>0</td>\n",
       "      <td>1</td>\n",
       "      <td>5</td>\n",
       "    </tr>\n",
       "    <tr>\n",
       "      <th>2</th>\n",
       "      <td>0</td>\n",
       "      <td>2</td>\n",
       "      <td>5</td>\n",
       "    </tr>\n",
       "    <tr>\n",
       "      <th>3</th>\n",
       "      <td>0</td>\n",
       "      <td>3</td>\n",
       "      <td>4</td>\n",
       "    </tr>\n",
       "    <tr>\n",
       "      <th>4</th>\n",
       "      <td>0</td>\n",
       "      <td>4</td>\n",
       "      <td>4</td>\n",
       "    </tr>\n",
       "  </tbody>\n",
       "</table>\n",
       "</div>"
      ],
      "text/plain": [
       "   user_id  business_id  stars\n",
       "0        0            0      5\n",
       "1        0            1      5\n",
       "2        0            2      5\n",
       "3        0            3      4\n",
       "4        0            4      4"
      ]
     },
     "execution_count": 20,
     "metadata": {},
     "output_type": "execute_result"
    }
   ],
   "source": [
    "ratings_train = ratings[['user_id', 'business_id', 'stars']]\n",
    "ratings_train.head()"
   ]
  },
  {
   "cell_type": "code",
   "execution_count": 21,
   "metadata": {},
   "outputs": [],
   "source": [
    "ratings_train.to_csv(f'data/ratings_train.csv', index=False)"
   ]
  },
  {
   "cell_type": "code",
   "execution_count": 22,
   "metadata": {},
   "outputs": [],
   "source": [
    "x = ratings_train\n",
    "y = ratings_train['stars'].astype(np.float32)"
   ]
  },
  {
   "cell_type": "code",
   "execution_count": 23,
   "metadata": {},
   "outputs": [],
   "source": [
    "data = ColumnarModelData.from_data_frame(PATH, val_idxs, x, y, ['user_id', 'business_id'], 64)"
   ]
  },
  {
   "cell_type": "markdown",
   "metadata": {},
   "source": [
    "# 3 Collaborative Filtering"
   ]
  },
  {
   "cell_type": "markdown",
   "metadata": {},
   "source": [
    "We will start off by writing a method that creates randomly intitialized embedding matrices given the number of inputs and the number of latent factors."
   ]
  },
  {
   "cell_type": "code",
   "execution_count": 24,
   "metadata": {},
   "outputs": [],
   "source": [
    "def get_embedding(num_inputs, num_factors):\n",
    "    emb = nn.Embedding(num_inputs, num_factors)\n",
    "    emb.weight.data.uniform_(-0.01, 0.01)\n",
    "    return emb"
   ]
  },
  {
   "cell_type": "markdown",
   "metadata": {},
   "source": [
    "## Matrix Factorization Approach"
   ]
  },
  {
   "cell_type": "markdown",
   "metadata": {},
   "source": [
    "Given that we are only considering users and businesses to start with (that is, we only have two variables to learn about and use in making recommendations), we can build a pretty effective collaborative filtering model from scratch by hand. We will use a matrix factorization approach where we will try to factorize the input matrix into the product of the embedding matrices of users and businesses. Note that we will also add bias to each term to correct for outliers in the data (like extremely popular businesses or extremely positive customers)."
   ]
  },
  {
   "cell_type": "code",
   "execution_count": 25,
   "metadata": {},
   "outputs": [],
   "source": [
    "class EmbeddingMatrixFactor(nn.Module):\n",
    "    def __init__(self, num_users, num_businesses):\n",
    "        super().__init__()\n",
    "        (self.u, self.b, self.ub, self.bb) = [get_emb(*o) for o in [\n",
    "            (num_users, n_factors), (num_businesses, n_factors), (num_users,1), (num_businesses,1)\n",
    "        ]]\n",
    "    \n",
    "    def forward(self, cats, conts):\n",
    "        users, businesses = cats[:,0], cats[:,1]\n",
    "        um = (self.u(users) * self.b(businesses)).sum(1)\n",
    "        res = um + self.ub(users).squeeze() + self.bb(businesses).squeeze() # squeeze adds padding for matrix addition\n",
    "        res = F.sigmoid(res) * (max_rating - min_rating) + min_rating\n",
    "        return res"
   ]
  },
  {
   "cell_type": "markdown",
   "metadata": {},
   "source": [
    "Now we will be training our model. We will be using stochastic gradient descent with momentum to achieve optimal results in the training loop. Momentum allows the training loop to progress towards the global minimum faster by essentially allowing it to jump over mini hills that produce local minima."
   ]
  },
  {
   "cell_type": "code",
   "execution_count": 26,
   "metadata": {},
   "outputs": [],
   "source": [
    "model = EmbeddingMatrixFactor(n_users, n_businesses).cuda()\n",
    "opt = optim.SGD(model.parameters(), lr*10, weight_decay=wd, momentum=0.9)"
   ]
  },
  {
   "cell_type": "code",
   "execution_count": 27,
   "metadata": {},
   "outputs": [
    {
     "data": {
      "application/vnd.jupyter.widget-view+json": {
       "model_id": "d4e2120c11c349818f820093e3d0a4a6",
       "version_major": 2,
       "version_minor": 0
      },
      "text/plain": [
       "HBox(children=(IntProgress(value=0, description='Epoch', max=3), HTML(value='')))"
      ]
     },
     "metadata": {},
     "output_type": "display_data"
    },
    {
     "name": "stdout",
     "output_type": "stream",
     "text": [
      "epoch      trn_loss   val_loss                                  \n",
      "    0      1.815742   1.824809  \n",
      "    1      1.655935   1.713106                                  \n",
      "    2      1.615933   1.659495                                  \n",
      "\n"
     ]
    },
    {
     "data": {
      "text/plain": [
       "[array([1.65949])]"
      ]
     },
     "execution_count": 27,
     "metadata": {},
     "output_type": "execute_result"
    }
   ],
   "source": [
    "fit(model, data, 3, opt, F.mse_loss)"
   ]
  },
  {
   "cell_type": "markdown",
   "metadata": {},
   "source": [
    "## Neural Net Approach"
   ]
  },
  {
   "cell_type": "markdown",
   "metadata": {},
   "source": [
    "We will now proceed to build a neural net with a single layer to implement our collaborative filtering approach and create a powerful recommendation system."
   ]
  },
  {
   "cell_type": "markdown",
   "metadata": {},
   "source": [
    "Our neural net will have an input layer that takes in the concatenated user and business embedding vectors, a hidden layer (the number of nodes in this layer is a hyperparameter that can be tweaked) and a single node output layer (since we want a single rating as an output). There is technically an embedding layer as well but since it is just a linear operation, it can be thought of as being part of the input layer. Note that PyTorch linear layers have bias already, hence we don't need to create those separately."
   ]
  },
  {
   "cell_type": "code",
   "execution_count": 28,
   "metadata": {},
   "outputs": [],
   "source": [
    "class NeuralNet(nn.Module):\n",
    "    def __init__(self, num_users, num_businesses, nh=10, p1=0.05, p2=0.5):\n",
    "        super().__init__()\n",
    "        (self.u, self.b) = [get_embedding(*o) \n",
    "                                         for o in [(num_users, n_factors), (num_businesses, n_factors)]]\n",
    "        self.lin1 = nn.Linear(n_factors * 2, nh) # input layer -> hidden layer\n",
    "        self.lin2 = nn.Linear(nh, 1) # hidden layer -> output\n",
    "        # dropout for each of the layers\n",
    "        self.drop1 = nn.Dropout(p1)\n",
    "        self.drop2 = nn.Dropout(p2)\n",
    "        \n",
    "    def forward(self, cats, conts):\n",
    "        users, businesses = cats[:,0], cats[:,1]\n",
    "        x = self.drop1(torch.cat([self.u(users), self.b(businesses)], dim=1))\n",
    "        x = self.drop2(F.relu(self.lin1(x)))\n",
    "        return F.sigmoid(self.lin2(x)) * (max_rating - min_rating) + min_rating"
   ]
  },
  {
   "cell_type": "code",
   "execution_count": 29,
   "metadata": {},
   "outputs": [
    {
     "data": {
      "text/plain": [
       "NeuralNet(\n",
       "  (u): Embedding(944697, 50)\n",
       "  (b): Embedding(69070, 50)\n",
       "  (lin1): Linear(in_features=100, out_features=10, bias=True)\n",
       "  (lin2): Linear(in_features=10, out_features=1, bias=True)\n",
       "  (drop1): Dropout(p=0.05)\n",
       "  (drop2): Dropout(p=0.5)\n",
       ")"
      ]
     },
     "execution_count": 29,
     "metadata": {},
     "output_type": "execute_result"
    }
   ],
   "source": [
    "model = NeuralNet(n_users, n_businesses).cuda()\n",
    "model"
   ]
  },
  {
   "cell_type": "markdown",
   "metadata": {},
   "source": [
    "Thus, we can see that we have now created a neural net with an embedding layer, input layer with 100 nodes (users and businesses have 50 latent factors each), one hidden layer with 10 nodes and the output layer. We also see that dropout is being employed as a form of L1 Regularization to avoid overfitting."
   ]
  },
  {
   "cell_type": "code",
   "execution_count": 30,
   "metadata": {},
   "outputs": [],
   "source": [
    "# optimizer\n",
    "opt = optim.Adam(model.parameters(), lr, weight_decay=wd)"
   ]
  },
  {
   "cell_type": "code",
   "execution_count": 31,
   "metadata": {},
   "outputs": [
    {
     "data": {
      "application/vnd.jupyter.widget-view+json": {
       "model_id": "8a0cbfc01900440085468ef627fb893e",
       "version_major": 2,
       "version_minor": 0
      },
      "text/plain": [
       "HBox(children=(IntProgress(value=0, description='Epoch', max=3), HTML(value='')))"
      ]
     },
     "metadata": {},
     "output_type": "display_data"
    },
    {
     "name": "stdout",
     "output_type": "stream",
     "text": [
      "epoch      trn_loss   val_loss                                  \n",
      "    0      1.598821   1.575015  \n",
      "    1      1.612088   1.562866                                  \n",
      "    2      1.624804   1.560882                                  \n",
      "\n"
     ]
    },
    {
     "data": {
      "text/plain": [
       "[array([1.56088])]"
      ]
     },
     "execution_count": 31,
     "metadata": {},
     "output_type": "execute_result"
    }
   ],
   "source": [
    "# start training loop\n",
    "fit(model, data, 3, opt, F.mse_loss)"
   ]
  },
  {
   "cell_type": "markdown",
   "metadata": {},
   "source": [
    "## Fast.AI Library Approach"
   ]
  },
  {
   "cell_type": "code",
   "execution_count": 32,
   "metadata": {},
   "outputs": [],
   "source": [
    "cf = CollabFilterDataset.from_csv(PATH, 'ratings_train.csv', 'user_id', 'business_id', 'stars')\n",
    "learn = cf.get_learner(n_factors, val_idxs, 64, opt_fn=optim.Adam)"
   ]
  },
  {
   "cell_type": "code",
   "execution_count": 25,
   "metadata": {},
   "outputs": [
    {
     "data": {
      "application/vnd.jupyter.widget-view+json": {
       "model_id": "bea313ea85f942c4a727c1276343bd84",
       "version_major": 2,
       "version_minor": 0
      },
      "text/plain": [
       "HBox(children=(IntProgress(value=0, description='Epoch', max=1), HTML(value='')))"
      ]
     },
     "metadata": {},
     "output_type": "display_data"
    },
    {
     "name": "stdout",
     "output_type": "stream",
     "text": [
      "epoch      trn_loss   val_loss                                  \n",
      "    0      5.617518   5.680733  \n",
      "\n"
     ]
    }
   ],
   "source": [
    "learn.lr_find()"
   ]
  },
  {
   "cell_type": "code",
   "execution_count": 26,
   "metadata": {},
   "outputs": [
    {
     "data": {
      "image/png": "[encoded data removed]",
      "text/plain": [
       "<Figure size 432x288 with 1 Axes>"
      ]
     },
     "metadata": {},
     "output_type": "display_data"
    }
   ],
   "source": [
    "learn.sched.plot()"
   ]
  },
  {
   "cell_type": "code",
   "execution_count": 34,
   "metadata": {},
   "outputs": [
    {
     "data": {
      "application/vnd.jupyter.widget-view+json": {
       "model_id": "8a2965e76f1b4709a530a41d3f3263b5",
       "version_major": 2,
       "version_minor": 0
      },
      "text/plain": [
       "HBox(children=(IntProgress(value=0, description='Epoch', max=3), HTML(value='')))"
      ]
     },
     "metadata": {},
     "output_type": "display_data"
    },
    {
     "name": "stdout",
     "output_type": "stream",
     "text": [
      "epoch      trn_loss   val_loss                                  \n",
      "    0      1.637123   1.612954  \n",
      "    1      1.588235   1.600125                                  \n",
      "    2      1.614529   1.603362                                  \n",
      "\n"
     ]
    },
    {
     "data": {
      "text/plain": [
       "[array([1.60336])]"
      ]
     },
     "execution_count": 34,
     "metadata": {},
     "output_type": "execute_result"
    }
   ],
   "source": [
    "learn.fit(lr, 2, wds=wd, cycle_len=1, cycle_mult=2)"
   ]
  },
  {
   "cell_type": "markdown",
   "metadata": {},
   "source": [
    "# 4 Analyzing Results"
   ]
  },
  {
   "cell_type": "markdown",
   "metadata": {},
   "source": [
    "Since not everyone has eaten at every restaurant, we will only consider the top 10000 most popular restaurants in the dataset."
   ]
  },
  {
   "cell_type": "code",
   "execution_count": 145,
   "metadata": {},
   "outputs": [],
   "source": [
    "restaurant_names = ratings.set_index('business_id')['name'].to_dict()\n",
    "count = ratings_train.groupby('business_id')['stars'].count()\n",
    "top_restaurants = count.sort_values(ascending=False).index.values[:10000]\n",
    "top_restaurant_idx = np.array([cf.item2idx[o] for o in top_restaurants])"
   ]
  },
  {
   "cell_type": "code",
   "execution_count": 146,
   "metadata": {},
   "outputs": [
    {
     "data": {
      "text/plain": [
       "EmbeddingDotBias(\n",
       "  (u): Embedding(944697, 50)\n",
       "  (i): Embedding(69070, 50)\n",
       "  (ub): Embedding(944697, 1)\n",
       "  (ib): Embedding(69070, 1)\n",
       ")"
      ]
     },
     "execution_count": 146,
     "metadata": {},
     "output_type": "execute_result"
    }
   ],
   "source": [
    "m = learn.model; m.cuda()"
   ]
  },
  {
   "cell_type": "markdown",
   "metadata": {},
   "source": [
    "## Bias"
   ]
  },
  {
   "cell_type": "markdown",
   "metadata": {},
   "source": [
    "Let's start off by looking at the business bias term to see which are the best/worst restaurants in America. In many ways, this is a more accurate representation of a restaurant's quality since the bias term has been corrected for individual users' idiosyncrasies and individual restaurants' popularity."
   ]
  },
  {
   "cell_type": "code",
   "execution_count": 147,
   "metadata": {},
   "outputs": [
    {
     "data": {
      "text/plain": [
       "array([[1.2626 ],\n",
       "       [0.82225],\n",
       "       [0.73982],\n",
       "       ...,\n",
       "       [1.07665],\n",
       "       [0.34551],\n",
       "       [0.14211]], dtype=float32)"
      ]
     },
     "execution_count": 147,
     "metadata": {},
     "output_type": "execute_result"
    }
   ],
   "source": [
    "restaurant_bias = to_np(m.ib(V(top_restaurant_idx)))\n",
    "restaurant_bias"
   ]
  },
  {
   "cell_type": "code",
   "execution_count": 148,
   "metadata": {},
   "outputs": [],
   "source": [
    "restaurant_ratings = [(b[0], restaurant_names[i]) for i,b in zip(top_restaurants, restaurant_bias)]"
   ]
  },
  {
   "cell_type": "code",
   "execution_count": 149,
   "metadata": {},
   "outputs": [
    {
     "data": {
      "text/plain": [
       "[(-1.6982523, '\"Sparkletts Water\"'),\n",
       " (-1.6545534, '\"McFadden\\'s Restaurant & Saloon\"'),\n",
       " (-1.49457, '\"Walmart Supercenter\"'),\n",
       " (-1.4491366, '\"Tropical Smoothie\"'),\n",
       " (-1.4443856, '\"Tropical Smoothie Cafe\"'),\n",
       " (-1.3857496, '\"Calico Jack\\'s\"'),\n",
       " (-1.3804184, '\"Walmart Supercenter\"'),\n",
       " (-1.313316, '\"Tropical Smoothie Cafe\"'),\n",
       " (-1.3009623, '\"Sammy\\'s Beach Bar & Grill\"'),\n",
       " (-1.2990179, '\"Winder Farms\"'),\n",
       " (-1.2686362, '\"Little Caesars Pizza\"'),\n",
       " (-1.1995847, '\"Danny\\'s Family Car Wash\"'),\n",
       " (-1.1889216, '\"Walmart Supercenter\"'),\n",
       " (-1.1851853, '\"360 Gourmet Burrito\"'),\n",
       " (-1.171425, '\"Circus Buffet\"'),\n",
       " (-1.1676462, '\"Carlos\\'n Charlie\\'s\"'),\n",
       " (-1.1501188, '\"Sam Woo BBQ Restaurant\"'),\n",
       " (-1.1217197, '\"Tropical Smoothie Cafe\"'),\n",
       " (-1.1009519, '\"McFadden\\'s Restaurant and Saloon\"'),\n",
       " (-1.0994985, '\"Sicily\\'s Pizza\"')]"
      ]
     },
     "execution_count": 149,
     "metadata": {},
     "output_type": "execute_result"
    }
   ],
   "source": [
    "sorted(restaurant_ratings, key=lambda a: a[0])[:20]"
   ]
  },
  {
   "cell_type": "markdown",
   "metadata": {},
   "source": [
    "```From the list above, we see that the restaurants with the lowest biases (and hence, the \"worst\" restaurants) are what we would expect. Although we aren't familiar with every single one of these restaurants, we do know that establishments like Tropical Smoothie Cafe, Walmart, Little Caesars Pizza are quick serve restaurants that aren't particularly known for providing customers with a fine dining experience.```"
   ]
  },
  {
   "cell_type": "code",
   "execution_count": 150,
   "metadata": {},
   "outputs": [
    {
     "data": {
      "text/plain": [
       "[(2.5946481, '\"Little Miss BBQ\"'),\n",
       " (2.5942366, '\"Brew Tea Bar\"'),\n",
       " (2.291351, '\"Soho Japanese Restaurant\"'),\n",
       " (2.2543998, '\"Gelatology\"'),\n",
       " (2.2103016, '\"Poke Express\"'),\n",
       " (2.1767561, '\"Baguette Cafe\"'),\n",
       " (2.160378, '\"Grouchy John\\'s Coffee\"'),\n",
       " (2.1591578, '\"Bronze Cafe at The Center\"'),\n",
       " (2.1524856, '\"Dutch Bros. Coffee\"'),\n",
       " (2.114516, '\"Mr Mamas\"'),\n",
       " (2.1065958, '\"Ten Handcrafted American Fare & Spirits\"'),\n",
       " (2.1036794, '\"Art of Flavors\"'),\n",
       " (2.1006186, '\"Cafe Monarch\"'),\n",
       " (2.0936527, '\"Fox Smokehouse Bbq\"'),\n",
       " (2.0775251, '\"Arawan Thai Bistro and Dessert\"'),\n",
       " (2.0714798, '\"Gaucho Parrilla Argentina\"'),\n",
       " (2.0690324, '\"Meraki Greek Grill\"'),\n",
       " (2.052246, '\"Desert Wind Coffee Roasters\"'),\n",
       " (2.0489502, '\"Gangnam Asian BBQ Dining\"'),\n",
       " (2.0466564, '\"Casanova Brothers Pizza\"')]"
      ]
     },
     "execution_count": 150,
     "metadata": {},
     "output_type": "execute_result"
    }
   ],
   "source": [
    "sorted(restaurant_ratings, key=lambda a: a[0], reverse=True)[:20]"
   ]
  },
  {
   "cell_type": "markdown",
   "metadata": {},
   "source": [
    "```The highest rated restaurants have characteristics that would be expected of good restaurants. Although, we might not recognize these restaurants, a quick google search reveals that each of these restaurants is either extremely famous (due to its having special history/heritage or exotic dishes) or extremely upscale restaurants focused on providing customers a high end dining experience.```"
   ]
  },
  {
   "cell_type": "markdown",
   "metadata": {},
   "source": [
    "## Embedding Interpretation"
   ]
  },
  {
   "cell_type": "code",
   "execution_count": 151,
   "metadata": {},
   "outputs": [
    {
     "data": {
      "text/plain": [
       "(10000, 50)"
      ]
     },
     "execution_count": 151,
     "metadata": {},
     "output_type": "execute_result"
    }
   ],
   "source": [
    "restaurant_emb = to_np(m.i(V(top_restaurant_idx)))\n",
    "restaurant_emb.shape"
   ]
  },
  {
   "cell_type": "markdown",
   "metadata": {},
   "source": [
    "Because it's hard to interpret / visualize a 50-dimensional space with 50 vectors, we will use PCA to reduce the dimensionality down to just 3 vectors."
   ]
  },
  {
   "cell_type": "code",
   "execution_count": 152,
   "metadata": {},
   "outputs": [],
   "source": [
    "from sklearn.decomposition import PCA\n",
    "pca = PCA(n_components=3)\n",
    "restaurant_pca = pca.fit(restaurant_emb.T).components_"
   ]
  },
  {
   "cell_type": "code",
   "execution_count": 153,
   "metadata": {},
   "outputs": [
    {
     "data": {
      "text/plain": [
       "(3, 10000)"
      ]
     },
     "execution_count": 153,
     "metadata": {},
     "output_type": "execute_result"
    }
   ],
   "source": [
    "restaurant_pca.shape"
   ]
  },
  {
   "cell_type": "code",
   "execution_count": 154,
   "metadata": {},
   "outputs": [],
   "source": [
    "latent_factor_1 = restaurant_pca[0]\n",
    "restaurant_component = [(f, restaurant_names[i]) for f,i in zip(latent_factor_1, top_restaurants)]"
   ]
  },
  {
   "cell_type": "markdown",
   "metadata": {},
   "source": [
    "Here's the first component"
   ]
  },
  {
   "cell_type": "code",
   "execution_count": 155,
   "metadata": {},
   "outputs": [
    {
     "data": {
      "text/plain": [
       "[(0.2163756, '\"Wicked Spoon\"'),\n",
       " (0.10859993, '\"Burger Bar\"'),\n",
       " (0.10266458, '\"Hash House A Go Go\"'),\n",
       " (0.09333585, '\"Yard House\"'),\n",
       " (0.08949162, '\"Mon Ami Gabi\"'),\n",
       " (0.07270809, '\"SUSHISAMBA - Las Vegas\"'),\n",
       " (0.07195955, '\"Tom\\'s Urban\"'),\n",
       " (0.06958487, '\"Le Thai\"'),\n",
       " (0.0634037, '\"Island Sushi & Grill\"'),\n",
       " (0.058632415, '\"SkinnyFATS\"'),\n",
       " (0.058476772, '\"Top of the World\"'),\n",
       " (0.056548253, '\"Amore Taste of Chicago\"'),\n",
       " (0.054567907, '\"Olive & Ivy\"'),\n",
       " (0.05427477, '\"Public School 702\"'),\n",
       " (0.054197144, '\"Smashburger\"')]"
      ]
     },
     "execution_count": 155,
     "metadata": {},
     "output_type": "execute_result"
    }
   ],
   "source": [
    "sorted(restaurant_component, key=itemgetter(0), reverse=True)[:15]"
   ]
  },
  {
   "cell_type": "code",
   "execution_count": 156,
   "metadata": {},
   "outputs": [
    {
     "data": {
      "text/plain": [
       "[(-0.38430002, '\"Bacchanal Buffet\"'),\n",
       " (-0.1652287, '\"Sushi House Goyemon\"'),\n",
       " (-0.10986076, '\"MGM Grand Hotel\"'),\n",
       " (-0.103675075, '\"Pho Kim Long\"'),\n",
       " (-0.10015984, '\"Gordon Ramsay Pub & Grill\"'),\n",
       " (-0.09760557, '\"Kona Grill\"'),\n",
       " (-0.091835074, '\"Gordon Ramsay BurGR\"'),\n",
       " (-0.08962621, '\"Tao Nightclub\"'),\n",
       " (-0.08392071, '\"Bouchon at the Venezia Tower\"'),\n",
       " (-0.07963799, '\"The Buffet at ARIA\"'),\n",
       " (-0.06999504, '\"Scarpetta\"'),\n",
       " (-0.06861192, '\"Jean Philippe Patisserie\"'),\n",
       " (-0.06612178, '\"The Buffet\"'),\n",
       " (-0.065438576, '\"Holsteins Shakes and Buns\"'),\n",
       " (-0.063183956, '\"Serendipity 3\"')]"
      ]
     },
     "execution_count": 156,
     "metadata": {},
     "output_type": "execute_result"
    }
   ],
   "source": [
    "sorted(restaurant_component, key=itemgetter(0))[:15]"
   ]
  },
  {
   "cell_type": "markdown",
   "metadata": {},
   "source": [
    "*Here's the **second** component. From an analysis of the top and bottom rated restaurants for this categoriy, it seems to be **sit-down vs quick/takeout**. This is one of the biggest advantages of using a neural net approach over a simple matrix factorization approach. Eventhough we only had one hidden layer, a neural net is able to learn these complex, higher order features from just the three raw features we fed into it. It is also clear that this category would be relevant in categorizing restaurants and hence, it makes sense that this would be a feature that the neural net learned.*"
   ]
  },
  {
   "cell_type": "code",
   "execution_count": 157,
   "metadata": {},
   "outputs": [],
   "source": [
    "latent_factor_2 = restaurant_pca[1]\n",
    "restaurant_component = [(f, restaurant_names[i]) for f,i in zip(latent_factor_2, top_restaurants)]"
   ]
  },
  {
   "cell_type": "code",
   "execution_count": 158,
   "metadata": {},
   "outputs": [
    {
     "data": {
      "text/plain": [
       "[(0.399929, '\"Serendipity 3\"'),\n",
       " (0.24002841, '\"Hash House A Go Go\"'),\n",
       " (0.13212736, '\"The Buffet at ARIA\"'),\n",
       " (0.12221363, '\"Hash House A Go Go\"'),\n",
       " (0.11824533, '\"Secret Pizza\"'),\n",
       " (0.0943994, '\"MGM Grand Hotel\"'),\n",
       " (0.090385914, '\"Guy Fieri\\'s Vegas Kitchen & Bar\"'),\n",
       " (0.08374541, '\"Mon Ami Gabi\"'),\n",
       " (0.0822723, '\"Wicked Spoon\"'),\n",
       " (0.07502149, '\"RnR Gastropub\"'),\n",
       " (0.075019106, '\"Gordon Ramsay BurGR\"'),\n",
       " (0.070518024, '\"Steak \\'n Shake\"'),\n",
       " (0.06952866, '\"Cibo\"'),\n",
       " (0.06823589, '\"Earl of Sandwich\"'),\n",
       " (0.06729934, '\"Sushi Kaya\"')]"
      ]
     },
     "execution_count": 158,
     "metadata": {},
     "output_type": "execute_result"
    }
   ],
   "source": [
    "sorted(restaurant_component, key=itemgetter(0), reverse=True)[:15]"
   ]
  },
  {
   "cell_type": "code",
   "execution_count": 159,
   "metadata": {},
   "outputs": [
    {
     "data": {
      "text/plain": [
       "[(-0.08071486, '\"Chayo Mexican Kitchen + Tequila Bar\"'),\n",
       " (-0.07228853, '\"Tao Nightclub\"'),\n",
       " (-0.06492315, '\"Mellow Mushroom\"'),\n",
       " (-0.05967409, '\"Le Village Buffet\"'),\n",
       " (-0.05608507, '\"Burger Bar\"'),\n",
       " (-0.050812036, '\"La Grande Orange Grocery\"'),\n",
       " (-0.047284447, '\"Fukumimi Ramen\"'),\n",
       " (-0.046372607, '\"Pampas Churrascaria Brazilian Grille\"'),\n",
       " (-0.04430321, '\"Ross J\\'s Aloha Grill\"'),\n",
       " (-0.044212278, '\"Shish Kabob House\"'),\n",
       " (-0.044141054, '\"McCormick & Schmick\\'s Seafood & Steaks\"'),\n",
       " (-0.043989602, '\"Salut Kitchen Bar\"'),\n",
       " (-0.04309093, '\"ARIA Café\"'),\n",
       " (-0.04287802, '\"Yard House\"'),\n",
       " (-0.04258554, '\"BabyStacks Cafe\"')]"
      ]
     },
     "execution_count": 159,
     "metadata": {},
     "output_type": "execute_result"
    }
   ],
   "source": [
    "sorted(restaurant_component, key=itemgetter(0))[:15]"
   ]
  },
  {
   "cell_type": "markdown",
   "metadata": {},
   "source": [
    "Here's the third component"
   ]
  },
  {
   "cell_type": "code",
   "execution_count": 160,
   "metadata": {},
   "outputs": [],
   "source": [
    "latent_factor_3 = restaurant_pca[2]\n",
    "restaurant_component = [(f, restaurant_names[i]) for f,i in zip(latent_factor_3, top_restaurants)]"
   ]
  },
  {
   "cell_type": "code",
   "execution_count": 161,
   "metadata": {},
   "outputs": [
    {
     "data": {
      "text/plain": [
       "[(0.2567486, '\"MGM Grand Hotel\"'),\n",
       " (0.25641868, '\"Wicked Spoon\"'),\n",
       " (0.14726794, '\"Hash House A Go Go\"'),\n",
       " (0.1388867, '\"Secret Pizza\"'),\n",
       " (0.1208781, '\"Tao Nightclub\"'),\n",
       " (0.08718707, '\"Jean Philippe Patisserie\"'),\n",
       " (0.08570139, '\"Oyshi Sushi\"'),\n",
       " (0.08547093, '\"Bouchon at the Venezia Tower\"'),\n",
       " (0.08482955, '\"Pho Kim Long\"'),\n",
       " (0.079488635, '\"Morels French Steakhouse & Bistro\"'),\n",
       " (0.07851158, '\"Todd English P.U.B.\"'),\n",
       " (0.07318977, '\"Sweet Tomatoes\"'),\n",
       " (0.07250386, '\"Gordon Ramsay Steak\"'),\n",
       " (0.06438049, '\"Yama Sushi\"'),\n",
       " (0.063728005, '\"Echo & Rig\"')]"
      ]
     },
     "execution_count": 161,
     "metadata": {},
     "output_type": "execute_result"
    }
   ],
   "source": [
    "sorted(restaurant_component, key=itemgetter(0), reverse=True)[:15]"
   ]
  },
  {
   "cell_type": "code",
   "execution_count": 162,
   "metadata": {},
   "outputs": [
    {
     "data": {
      "text/plain": [
       "[(-0.18223774, '\"Serendipity 3\"'),\n",
       " (-0.15539716, '\"The Buffet at Bellagio\"'),\n",
       " (-0.102023885, '\"Gordon Ramsay Pub & Grill\"'),\n",
       " (-0.09995022, '\"Bacchanal Buffet\"'),\n",
       " (-0.099777326, '\"Eat.\"'),\n",
       " (-0.09345337, '\"Tea Station\"'),\n",
       " (-0.09318421, '\"Pizzeria Bianco\"'),\n",
       " (-0.08772489, '\"Chicago Brewing Company\"'),\n",
       " (-0.075071394, '\"Steak \\'n Shake\"'),\n",
       " (-0.071285926, '\"Carmine\\'s Italian Restaurant - Las Vegas\"'),\n",
       " (-0.07117119, '\"Lee\\'s Sandwiches\"'),\n",
       " (-0.0672684, '\"Nora\\'s Italian Cuisine\"'),\n",
       " (-0.06724019, '\"Grand Lux Cafe\"'),\n",
       " (-0.06657358, '\"Hofbräuhaus Las Vegas\"'),\n",
       " (-0.058792565, '\"KJ Kitchen\"')]"
      ]
     },
     "execution_count": 162,
     "metadata": {},
     "output_type": "execute_result"
    }
   ],
   "source": [
    "sorted(restaurant_component, key=itemgetter(0))[:15]"
   ]
  }
 ],
 "metadata": {
  "kernelspec": {
   "display_name": "Python 3",
   "language": "python",
   "name": "python3"
  },
  "language_info": {
   "codemirror_mode": {
    "name": "ipython",
    "version": 3
   },
   "file_extension": ".py",
   "mimetype": "text/x-python",
   "name": "python",
   "nbconvert_exporter": "python",
   "pygments_lexer": "ipython3",
   "version": "3.6.5"
  }
 },
 "nbformat": 4,
 "nbformat_minor": 2
}
